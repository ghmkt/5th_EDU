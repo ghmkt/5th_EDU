{
 "cells": [
  {
   "cell_type": "markdown",
   "metadata": {},
   "source": [
    "## Confusion matrix & metrics"
   ]
  },
  {
   "cell_type": "code",
   "execution_count": 40,
   "metadata": {},
   "outputs": [],
   "source": [
    "import pandas as pd\n",
    "import numpy as np\n",
    "from sklearn.datasets import make_classification\n",
    "from sklearn.linear_model import LogisticRegression\n",
    "from sklearn.metrics import classification_report\n",
    "\n",
    "# classification 위한 임의의 데이터 생성 -> X: 2개 feature, y:binary 인 데이터 샘플 100개\n",
    "X, y = make_classification(n_samples=100, n_features=2, n_informative=2, n_redundant=0)"
   ]
  },
  {
   "cell_type": "code",
   "execution_count": 41,
   "metadata": {},
   "outputs": [
    {
     "data": {
      "text/html": [
       "<div>\n",
       "<style scoped>\n",
       "    .dataframe tbody tr th:only-of-type {\n",
       "        vertical-align: middle;\n",
       "    }\n",
       "\n",
       "    .dataframe tbody tr th {\n",
       "        vertical-align: top;\n",
       "    }\n",
       "\n",
       "    .dataframe thead th {\n",
       "        text-align: right;\n",
       "    }\n",
       "</style>\n",
       "<table border=\"1\" class=\"dataframe\">\n",
       "  <thead>\n",
       "    <tr style=\"text-align: right;\">\n",
       "      <th></th>\n",
       "      <th>y_score</th>\n",
       "      <th>y_pred</th>\n",
       "      <th>y</th>\n",
       "    </tr>\n",
       "  </thead>\n",
       "  <tbody>\n",
       "    <tr>\n",
       "      <th>0</th>\n",
       "      <td>7.156843</td>\n",
       "      <td>1.0</td>\n",
       "      <td>1.0</td>\n",
       "    </tr>\n",
       "    <tr>\n",
       "      <th>1</th>\n",
       "      <td>5.271698</td>\n",
       "      <td>1.0</td>\n",
       "      <td>1.0</td>\n",
       "    </tr>\n",
       "    <tr>\n",
       "      <th>2</th>\n",
       "      <td>4.906571</td>\n",
       "      <td>1.0</td>\n",
       "      <td>1.0</td>\n",
       "    </tr>\n",
       "    <tr>\n",
       "      <th>3</th>\n",
       "      <td>4.800132</td>\n",
       "      <td>1.0</td>\n",
       "      <td>1.0</td>\n",
       "    </tr>\n",
       "    <tr>\n",
       "      <th>4</th>\n",
       "      <td>4.556622</td>\n",
       "      <td>1.0</td>\n",
       "      <td>1.0</td>\n",
       "    </tr>\n",
       "  </tbody>\n",
       "</table>\n",
       "</div>"
      ],
      "text/plain": [
       "    y_score  y_pred    y\n",
       "0  7.156843     1.0  1.0\n",
       "1  5.271698     1.0  1.0\n",
       "2  4.906571     1.0  1.0\n",
       "3  4.800132     1.0  1.0\n",
       "4  4.556622     1.0  1.0"
      ]
     },
     "metadata": {},
     "output_type": "display_data"
    },
    {
     "data": {
      "text/html": [
       "<div>\n",
       "<style scoped>\n",
       "    .dataframe tbody tr th:only-of-type {\n",
       "        vertical-align: middle;\n",
       "    }\n",
       "\n",
       "    .dataframe tbody tr th {\n",
       "        vertical-align: top;\n",
       "    }\n",
       "\n",
       "    .dataframe thead th {\n",
       "        text-align: right;\n",
       "    }\n",
       "</style>\n",
       "<table border=\"1\" class=\"dataframe\">\n",
       "  <thead>\n",
       "    <tr style=\"text-align: right;\">\n",
       "      <th></th>\n",
       "      <th>y_score</th>\n",
       "      <th>y_pred</th>\n",
       "      <th>y</th>\n",
       "    </tr>\n",
       "  </thead>\n",
       "  <tbody>\n",
       "    <tr>\n",
       "      <th>95</th>\n",
       "      <td>-6.653297</td>\n",
       "      <td>0.0</td>\n",
       "      <td>0.0</td>\n",
       "    </tr>\n",
       "    <tr>\n",
       "      <th>96</th>\n",
       "      <td>-6.747067</td>\n",
       "      <td>0.0</td>\n",
       "      <td>0.0</td>\n",
       "    </tr>\n",
       "    <tr>\n",
       "      <th>97</th>\n",
       "      <td>-7.004839</td>\n",
       "      <td>0.0</td>\n",
       "      <td>0.0</td>\n",
       "    </tr>\n",
       "    <tr>\n",
       "      <th>98</th>\n",
       "      <td>-8.100087</td>\n",
       "      <td>0.0</td>\n",
       "      <td>0.0</td>\n",
       "    </tr>\n",
       "    <tr>\n",
       "      <th>99</th>\n",
       "      <td>-8.411119</td>\n",
       "      <td>0.0</td>\n",
       "      <td>0.0</td>\n",
       "    </tr>\n",
       "  </tbody>\n",
       "</table>\n",
       "</div>"
      ],
      "text/plain": [
       "     y_score  y_pred    y\n",
       "95 -6.653297     0.0  0.0\n",
       "96 -6.747067     0.0  0.0\n",
       "97 -7.004839     0.0  0.0\n",
       "98 -8.100087     0.0  0.0\n",
       "99 -8.411119     0.0  0.0"
      ]
     },
     "metadata": {},
     "output_type": "display_data"
    }
   ],
   "source": [
    "model = LogisticRegression().fit(X,y)\n",
    "y_pred = model.predict(X)\n",
    "y_score = model.decision_function(X)  # decision_function(): 판별함수 값 계산\n",
    "# f_value(계산된 판별함수 값)가 양수이면 y=1, 음수이면 y=0으로 분류\n",
    "\n",
    "# 데이터프레임 형태로 확인해 보자\n",
    "df = pd.DataFrame(np.vstack([y_score, y_pred, y]).T,\n",
    "                  columns=[\"y_score\", \"y_pred\", \"y\"])\n",
    "df = df.sort_values(\"y_score\", ascending=False).reset_index(drop=True)\n",
    "display(df.head(), df.tail())"
   ]
  },
  {
   "cell_type": "code",
   "execution_count": 42,
   "metadata": {},
   "outputs": [
    {
     "name": "stdout",
     "output_type": "stream",
     "text": [
      "[[48  3]\n",
      " [ 2 47]]\n"
     ]
    },
    {
     "data": {
      "text/plain": [
       "0.95"
      ]
     },
     "metadata": {},
     "output_type": "display_data"
    },
    {
     "data": {
      "text/plain": [
       "0.94"
      ]
     },
     "metadata": {},
     "output_type": "display_data"
    },
    {
     "data": {
      "text/plain": [
       "0.9591836734693877"
      ]
     },
     "metadata": {},
     "output_type": "display_data"
    },
    {
     "data": {
      "text/plain": [
       "0.9494949494949495"
      ]
     },
     "metadata": {},
     "output_type": "display_data"
    },
    {
     "name": "stdout",
     "output_type": "stream",
     "text": [
      "             precision    recall  f1-score   support\n",
      "\n",
      "          0       0.96      0.94      0.95        51\n",
      "          1       0.94      0.96      0.95        49\n",
      "\n",
      "avg / total       0.95      0.95      0.95       100\n",
      "\n"
     ]
    }
   ],
   "source": [
    "from sklearn.metrics import confusion_matrix\n",
    "from sklearn.metrics import accuracy_score, precision_score, recall_score, f1_score\n",
    "from sklearn.model_selection import cross_val_predict\n",
    "\n",
    "# 지표 확인\n",
    "print(confusion_matrix(y, y_pred)) # TP FN FP TN\n",
    "display(accuracy_score(y, y_pred), precision_score(y, y_pred), recall_score(y, y_pred), f1_score(y, y_pred))\n",
    "print(classification_report(y, y_pred))"
   ]
  },
  {
   "cell_type": "code",
   "execution_count": 43,
   "metadata": {},
   "outputs": [
    {
     "data": {
      "text/html": [
       "<div>\n",
       "<style scoped>\n",
       "    .dataframe tbody tr th:only-of-type {\n",
       "        vertical-align: middle;\n",
       "    }\n",
       "\n",
       "    .dataframe tbody tr th {\n",
       "        vertical-align: top;\n",
       "    }\n",
       "\n",
       "    .dataframe thead th {\n",
       "        text-align: right;\n",
       "    }\n",
       "</style>\n",
       "<table border=\"1\" class=\"dataframe\">\n",
       "  <thead>\n",
       "    <tr style=\"text-align: right;\">\n",
       "      <th></th>\n",
       "      <th>y_score</th>\n",
       "      <th>y_hat</th>\n",
       "      <th>y</th>\n",
       "    </tr>\n",
       "  </thead>\n",
       "  <tbody>\n",
       "    <tr>\n",
       "      <th>66</th>\n",
       "      <td>-1.504060</td>\n",
       "      <td>1.0</td>\n",
       "      <td>0.0</td>\n",
       "    </tr>\n",
       "    <tr>\n",
       "      <th>67</th>\n",
       "      <td>-1.586684</td>\n",
       "      <td>1.0</td>\n",
       "      <td>0.0</td>\n",
       "    </tr>\n",
       "    <tr>\n",
       "      <th>68</th>\n",
       "      <td>-1.711021</td>\n",
       "      <td>1.0</td>\n",
       "      <td>0.0</td>\n",
       "    </tr>\n",
       "    <tr>\n",
       "      <th>69</th>\n",
       "      <td>-1.761630</td>\n",
       "      <td>1.0</td>\n",
       "      <td>0.0</td>\n",
       "    </tr>\n",
       "    <tr>\n",
       "      <th>70</th>\n",
       "      <td>-1.968663</td>\n",
       "      <td>1.0</td>\n",
       "      <td>0.0</td>\n",
       "    </tr>\n",
       "    <tr>\n",
       "      <th>71</th>\n",
       "      <td>-2.147105</td>\n",
       "      <td>0.0</td>\n",
       "      <td>0.0</td>\n",
       "    </tr>\n",
       "    <tr>\n",
       "      <th>72</th>\n",
       "      <td>-2.287081</td>\n",
       "      <td>0.0</td>\n",
       "      <td>0.0</td>\n",
       "    </tr>\n",
       "    <tr>\n",
       "      <th>73</th>\n",
       "      <td>-2.425482</td>\n",
       "      <td>0.0</td>\n",
       "      <td>0.0</td>\n",
       "    </tr>\n",
       "  </tbody>\n",
       "</table>\n",
       "</div>"
      ],
      "text/plain": [
       "     y_score  y_hat    y\n",
       "66 -1.504060    1.0  0.0\n",
       "67 -1.586684    1.0  0.0\n",
       "68 -1.711021    1.0  0.0\n",
       "69 -1.761630    1.0  0.0\n",
       "70 -1.968663    1.0  0.0\n",
       "71 -2.147105    0.0  0.0\n",
       "72 -2.287081    0.0  0.0\n",
       "73 -2.425482    0.0  0.0"
      ]
     },
     "metadata": {},
     "output_type": "display_data"
    },
    {
     "name": "stdout",
     "output_type": "stream",
     "text": [
      "[[29 22]\n",
      " [ 0 49]]\n",
      "             precision    recall  f1-score   support\n",
      "\n",
      "          0       1.00      0.57      0.72        51\n",
      "          1       0.69      1.00      0.82        49\n",
      "\n",
      "avg / total       0.85      0.78      0.77       100\n",
      "\n"
     ]
    }
   ],
   "source": [
    "# threshold를 0이 아닌 -2로 지정해 보자 \n",
    "lower_threshold = model.decision_function(X) > -2\n",
    "\n",
    "df2 = pd.DataFrame(np.vstack([y_score, lower_threshold, y]).T,\n",
    "                  columns=[\"y_score\", \"y_hat\", \"y\"])\n",
    "df2 = df2.sort_values(\"y_score\", ascending=False).reset_index(drop=True)\n",
    "display(df2[(df2['y_score']> -2.5) & (df2['y_score']<-1.5)])\n",
    "\n",
    "print(confusion_matrix(y, lower_threshold))\n",
    "print(classification_report(y, lower_threshold))"
   ]
  },
  {
   "cell_type": "markdown",
   "metadata": {},
   "source": [
    "## ROC, PR 곡선 그리기"
   ]
  },
  {
   "cell_type": "code",
   "execution_count": 71,
   "metadata": {},
   "outputs": [
    {
     "data": {
      "image/png": "[encoded data removed]",
      "text/plain": [
       "<Figure size 432x288 with 1 Axes>"
      ]
     },
     "metadata": {},
     "output_type": "display_data"
    }
   ],
   "source": [
    "from sklearn.metrics import auc\n",
    "from sklearn.metrics import roc_curve\n",
    "from sklearn.metrics import roc_auc_score\n",
    "from sklearn.metrics import precision_recall_curve\n",
    "from sklearn.model_selection import train_test_split\n",
    "import matplotlib.pyplot as plt\n",
    "\n",
    "X, y = make_classification(n_samples=500, n_features=2, n_informative=2, n_redundant=0)\n",
    "X_train, X_test, y_train, y_test = train_test_split(X, y)\n",
    "\n",
    "# model = LogisticRegression()\n",
    "\n",
    "y_score = model.fit(X_train, y_train).decision_function(X_test)\n",
    "\n",
    "# decision_function()을 사용할 수 없는 모델의 경우 y_score 대신 predict_proba()로 확률값을 구해줌\n",
    "# probs = model.predict_proba(X_test)\n",
    "# keep probabilities for the positive outcome only\n",
    "# probs = probs[:, 1] # 0,1 중 1로 분류될 확률\n",
    "\n",
    "# calculate AUC\n",
    "roc_auc = roc_auc_score(y_test, y_score)\n",
    "\n",
    "# calculate roc curve\n",
    "fpr, tpr, thresholds = roc_curve(y_test, y_score)\n",
    "\n",
    "plt.figure()\n",
    "plt.plot(fpr, tpr, lw=2, color='darkorange', label='ROC curve (area = %0.2f)' % roc_auc)\n",
    "plt.plot([0, 1], [0, 1], color='navy', lw=2, linestyle='--')\n",
    "plt.xlim([0.0, 1.0])\n",
    "plt.ylim([0.0, 1.05])\n",
    "plt.xlabel('False Positive Rate = Recall')\n",
    "plt.ylabel('True Positive Rate = Sensitivity')\n",
    "plt.title('ROC curve')\n",
    "plt.legend(loc=\"lower right\")\n",
    "plt.show()"
   ]
  },
  {
   "cell_type": "code",
   "execution_count": 72,
   "metadata": {},
   "outputs": [
    {
     "data": {
      "image/png": "[encoded data removed]",
      "text/plain": [
       "<Figure size 432x288 with 1 Axes>"
      ]
     },
     "metadata": {},
     "output_type": "display_data"
    }
   ],
   "source": [
    "# calculate precision-recall curve\n",
    "precision, recall, thresholds = precision_recall_curve(y_test, y_score)\n",
    "\n",
    "# calculate precision-recall AUC\n",
    "pr_auc = auc(recall, precision)\n",
    "\n",
    "plt.plot(recall, precision, lw=2, color='darkorange', label='PR curve (area = %0.2f)' % pr_auc)\n",
    "plt.plot([0, 1], [0.5, 0.5], linestyle='--')\n",
    "plt.xlim([0.0, 1.0])\n",
    "plt.ylim([0.0, 1.05])\n",
    "plt.xlabel('Recall')\n",
    "plt.ylabel('Precision')\n",
    "plt.title('Precision-Recall curve')\n",
    "plt.legend(loc=\"lower right\")\n",
    "plt.show()"
   ]
  },
  {
   "cell_type": "markdown",
   "metadata": {},
   "source": [
    "## Cross Validation"
   ]
  },
  {
   "cell_type": "code",
   "execution_count": 32,
   "metadata": {},
   "outputs": [
    {
     "name": "stdout",
     "output_type": "stream",
     "text": [
      "[[-0.22797043 -0.65989727]\n",
      " [ 0.23729822  0.53098715]\n",
      " [ 0.90816202  0.29764902]\n",
      " ...\n",
      " [ 1.60151187  0.70757717]\n",
      " [ 0.09376888  0.38732615]\n",
      " [-2.36542865 -1.5726754 ]] [0 0 0 0 0 1 1 1 1 1 0 0 0 0 1 1 1 1 0 1 0 1 1 0 1 1 1 1 1 0 0 1 1 0 0 0 0\n",
      " 1 0 1 1 1 0 1 0 0 0 1 1 1 1 0 1 0 1 1 1 1 1 1 1 1 1 1 0 1 1 1 0 1 1 0 1 1\n",
      " 1 0 0 1 0 0 0 1 0 0 1 1 0 0 0 1 1 0 1 1 1 1 1 1 1 0 1 0 1 1 0 1 0 1 1 1 1\n",
      " 0 1 0 1 0 0 1 1 1 0 0 0 0 0 0 0 0 0 0 1 1 1 0 0 1 0 1 0 1 0 0 1 1 0 1 1 1\n",
      " 1 1 1 0 1 1 0 1 1 0 0 0 1 1 0 0 1 1 1 0 1 0 1 1 1 0 0 0 0 1 0 0 1 0 1 0 1\n",
      " 0 1 0 0 1 1 0 0 1 0 1 0 1 0 1 1 1 0 0 1 1 0 1 1 0 0 1 0 1 1 0 0 1 0 1 1 1\n",
      " 1 0 0 0 0 0 1 1 0 1 1 0 0 1 1 1 1 0 0 1 1 0 0 0 0 1 0 0 1 0 0 0 1 1 1 0 0\n",
      " 0 0 1 1 0 1 1 1 1 0 1 0 1 1 1 1 1 1 0 0 1 0 1 0 0 1 1 1 0 0 0 0 1 1 0 0 1\n",
      " 0 1 0 0 0 0 1 0 0 1 1 0 1 0 0 0 0 0 1 0 1 1 0 0 1 0 1 0 0 1 0 0 1 1 1 1 0\n",
      " 1]\n",
      "[[-2.30498574 -1.65681633]\n",
      " [-2.03490046 -1.53587567]\n",
      " [-0.39989496 -0.70292241]\n",
      " ...\n",
      " [ 1.67689305  1.0876581 ]\n",
      " [ 1.02288554 -0.52887796]\n",
      " [-0.58961569  1.16926136]] [0 1 1 0 0 0 0 1 0 0 0 1 0 1 0 0 0 0 0 0 1 1 0 0 0 1 1 0 0 0 0 1 1 0 0 1 0\n",
      " 0 0 0 1 1 0 1 0 0 0 1 1 0 0 0 0 1 0 1 1 1 1 1 0 1 1 1 0 0 0 1 1 1 1 1 1 1\n",
      " 0 0 1 0 0 1 1 0 0 0 0 1 0 0 0 1 1 0 0 1 0 0 0 1 1 0 1 1 1 0 0 1 0 0 1 0 1\n",
      " 0 0 1 1 1 1 0 1 0 1 0 0 0 1 0 0 0 1 0 0 0 1 1 0 0 1 1 1 0 0 1 1 0 0 0 0 0\n",
      " 0 1 0 0 0 1 1 0 0 1 0 1 1 0 0 0 1 0 0 0 0 1 1 0 1 0 0 1 0 0 0 1 1 1 1 1 0\n",
      " 0 0 1 1 0 0 0 0 0 1 0 1 0 1 0 0 1 1 0 1 1 0 1 1 1 0 0 0 0 1 1 1 0 1 0 1 1\n",
      " 0 0 1 1 0 1 0 0 1 0 1 1 1 1 1 1 1 0 0 0 1 0 0 0 1 0 0 1 0 0 0 1 0 0 1 0 0\n",
      " 1 1 1 1 0 1 1 0 1 1 1 1 0 1 1 1 0 1 0 1 1 0 0 0 0 1 1 0 0 1 0 0 0 0 0 1 0\n",
      " 1 0 0 0 0 1 1 0 1 0 0 1 1 1 1 1 1 0 0 0 1 1 0 0 1 0 0 0 1 1 0 1 1 0 1 1 0]\n",
      "[[-0.22797043 -0.65989727]\n",
      " [-2.30498574 -1.65681633]\n",
      " [-2.03490046 -1.53587567]\n",
      " ...\n",
      " [-2.36542865 -1.5726754 ]\n",
      " [ 1.02288554 -0.52887796]\n",
      " [-0.58961569  1.16926136]] [0 1 0 0 1 1 1 1 1 1 1 1 0 0 0 0 0 0 1 1 1 1 0 1 1 0 1 0 0 0 0 0 1 1 1 1 0\n",
      " 0 1 0 0 1 1 1 1 1 1 1 0 1 0 0 1 1 1 0 0 0 1 1 1 1 1 0 0 1 0 1 0 1 0 1 0 0\n",
      " 0 0 1 1 1 1 1 1 0 0 1 0 1 0 1 1 0 1 0 1 0 1 1 1 0 0 0 0 0 1 1 0 0 0 1 1 1\n",
      " 1 0 1 0 0 1 0 0 0 0 1 0 1 0 0 1 0 0 0 1 1 0 1 1 0 1 1 1 0 0 0 0 0 0 0 1 0\n",
      " 0 0 1 0 1 0 1 0 1 0 0 0 1 0 1 1 1 0 1 0 0 0 1 0 1 1 1 0 1 0 1 0 0 0 0 1 1\n",
      " 1 1 0 1 1 0 0 0 0 0 0 0 1 1 0 1 1 0 0 1 1 1 1 0 1 0 1 1 0 0 0 1 0 1 1 1 1\n",
      " 0 0 0 1 1 1 1 1 1 0 0 0 0 0 0 0 1 0 1 0 1 1 0 1 1 0 1 1 1 0 0 0 0 1 1 1 1\n",
      " 1 0 1 0 1 0 0 1 0 1 0 0 0 0 0 0 1 1 1 0 1 0 1 0 1 1 1 0 0 0 0 0 1 1 0 0 1\n",
      " 1 1 1 1 1 0 1 1 1 0 1 1 0 1 1 0 1 0 0 0 0 1 1 0 0 1 0 1 0 1 0 0 1 0 1 1 1]\n"
     ]
    }
   ],
   "source": [
    "# kFold 모듈\n",
    "from sklearn.model_selection import KFold\n",
    "\n",
    "cv = KFold(n_splits=3, shuffle=True, random_state=0)\n",
    "for train_index, test_index in cv.split(X):\n",
    "    print(X[train_index], y[test_index])\n",
    "# cv.split(X)는 X를 k-fold로 나눈 뒤 각 fold에서의 (train_index, test_index)를 반환하는 iterable"
   ]
  },
  {
   "cell_type": "code",
   "execution_count": 33,
   "metadata": {},
   "outputs": [
    {
     "data": {
      "text/plain": [
       "array([0.955, 0.92 , 0.96 , 0.95 , 0.93 ])"
      ]
     },
     "execution_count": 33,
     "metadata": {},
     "output_type": "execute_result"
    }
   ],
   "source": [
    "# cross_val_score 모듈\n",
    "from sklearn.model_selection import cross_val_score\n",
    "\n",
    "kfold = KFold(n_splits=5, shuffle=True, random_state=0) # target이 골고루 분포되도록 shuffle 옵션\n",
    "scores = cross_val_score(LogisticRegression(), X, y, cv=kfold)\n",
    "# cross_val_score(모델, 데이터, 타깃)\n",
    "scores # 각 fold에 대한 score"
   ]
  },
  {
   "cell_type": "code",
   "execution_count": 34,
   "metadata": {},
   "outputs": [
    {
     "data": {
      "text/plain": [
       "array([0.93413174, 0.94594595, 0.94594595])"
      ]
     },
     "execution_count": 34,
     "metadata": {},
     "output_type": "execute_result"
    }
   ],
   "source": [
    "scores = cross_val_score(LogisticRegression(), X, y) \n",
    "scores \n",
    "# cross_val_score의 기본값은 k=3"
   ]
  },
  {
   "cell_type": "code",
   "execution_count": 35,
   "metadata": {},
   "outputs": [
    {
     "data": {
      "text/plain": [
       "array([0.92537313, 0.94029851, 0.95      , 0.95477387, 0.93969849])"
      ]
     },
     "execution_count": 35,
     "metadata": {},
     "output_type": "execute_result"
    }
   ],
   "source": [
    "scores = cross_val_score(LogisticRegression(), X, y, cv=5)\n",
    "scores\n",
    "# cross_val_score는 기본적으로 분류 모델에 대해 StratifiedKfold 사용"
   ]
  },
  {
   "cell_type": "code",
   "execution_count": 36,
   "metadata": {},
   "outputs": [
    {
     "data": {
      "text/plain": [
       "0.9420288007200179"
      ]
     },
     "metadata": {},
     "output_type": "display_data"
    },
    {
     "data": {
      "text/plain": [
       "0.00010236245330868884"
      ]
     },
     "metadata": {},
     "output_type": "display_data"
    }
   ],
   "source": [
    "display(scores.mean(), scores.var()) # 교차검증 점수들의 평균과 분산 확인"
   ]
  },
  {
   "cell_type": "markdown",
   "metadata": {},
   "source": [
    "## Grid Search"
   ]
  },
  {
   "cell_type": "code",
   "execution_count": 37,
   "metadata": {},
   "outputs": [],
   "source": [
    "# 딕셔너리 형태로 시험할 파라미터를 지정\n",
    "param_grid = {'C': [0.001, 0.01, 0.1, 1, 10, 100], 'penalty': ['l1','l2']}\n",
    "# 로지스틱 회귀의 경우 주요 파라미터: C, penalty 등\n",
    "# 이 경우 파라미터'C'값 6개, 'penalty'값 2개의 조합 => 총 6x2=12번 모델 돌리게 됨"
   ]
  },
  {
   "cell_type": "code",
   "execution_count": 38,
   "metadata": {},
   "outputs": [
    {
     "name": "stdout",
     "output_type": "stream",
     "text": [
      "최적의 파라미터:  {'C': 10, 'penalty': 'l1'}\n",
      "최고 성능 모델:  LogisticRegression(C=10, class_weight=None, dual=False, fit_intercept=True,\n",
      "          intercept_scaling=1, max_iter=100, multi_class='ovr', n_jobs=1,\n",
      "          penalty='l1', random_state=None, solver='liblinear', tol=0.0001,\n",
      "          verbose=0, warm_start=False)\n",
      "최고 교차검증 점수: 0.94\n"
     ]
    }
   ],
   "source": [
    "from sklearn.model_selection import GridSearchCV\n",
    "\n",
    "grid_search = GridSearchCV(LogisticRegression(), param_grid, cv=5) # 보통 교차검증을 사용한 그리드 서치를 시행!\n",
    "# GridSearchCV(모델, 파라미터 딕셔너리)\n",
    "grid_search.fit(X, y)\n",
    "\n",
    "print('최적의 파라미터: ', grid_search.best_params_)\n",
    "print('최고 성능 모델: ', grid_search.best_estimator_)\n",
    "print('최고 교차검증 점수: {:.2f}'.format(grid_search.best_score_))"
   ]
  },
  {
   "cell_type": "code",
   "execution_count": 39,
   "metadata": {},
   "outputs": [
    {
     "name": "stderr",
     "output_type": "stream",
     "text": [
      "C:\\ProgramData\\Anaconda3\\lib\\site-packages\\sklearn\\utils\\deprecation.py:122: FutureWarning: You are accessing a training score ('split0_train_score'), which will not be available by default any more in 0.21. If you need training scores, please set return_train_score=True\n",
      "  warnings.warn(*warn_args, **warn_kwargs)\n",
      "C:\\ProgramData\\Anaconda3\\lib\\site-packages\\sklearn\\utils\\deprecation.py:122: FutureWarning: You are accessing a training score ('split1_train_score'), which will not be available by default any more in 0.21. If you need training scores, please set return_train_score=True\n",
      "  warnings.warn(*warn_args, **warn_kwargs)\n",
      "C:\\ProgramData\\Anaconda3\\lib\\site-packages\\sklearn\\utils\\deprecation.py:122: FutureWarning: You are accessing a training score ('split2_train_score'), which will not be available by default any more in 0.21. If you need training scores, please set return_train_score=True\n",
      "  warnings.warn(*warn_args, **warn_kwargs)\n",
      "C:\\ProgramData\\Anaconda3\\lib\\site-packages\\sklearn\\utils\\deprecation.py:122: FutureWarning: You are accessing a training score ('split3_train_score'), which will not be available by default any more in 0.21. If you need training scores, please set return_train_score=True\n",
      "  warnings.warn(*warn_args, **warn_kwargs)\n",
      "C:\\ProgramData\\Anaconda3\\lib\\site-packages\\sklearn\\utils\\deprecation.py:122: FutureWarning: You are accessing a training score ('split4_train_score'), which will not be available by default any more in 0.21. If you need training scores, please set return_train_score=True\n",
      "  warnings.warn(*warn_args, **warn_kwargs)\n",
      "C:\\ProgramData\\Anaconda3\\lib\\site-packages\\sklearn\\utils\\deprecation.py:122: FutureWarning: You are accessing a training score ('mean_train_score'), which will not be available by default any more in 0.21. If you need training scores, please set return_train_score=True\n",
      "  warnings.warn(*warn_args, **warn_kwargs)\n",
      "C:\\ProgramData\\Anaconda3\\lib\\site-packages\\sklearn\\utils\\deprecation.py:122: FutureWarning: You are accessing a training score ('std_train_score'), which will not be available by default any more in 0.21. If you need training scores, please set return_train_score=True\n",
      "  warnings.warn(*warn_args, **warn_kwargs)\n"
     ]
    },
    {
     "data": {
      "text/html": [
       "<div>\n",
       "<style scoped>\n",
       "    .dataframe tbody tr th:only-of-type {\n",
       "        vertical-align: middle;\n",
       "    }\n",
       "\n",
       "    .dataframe tbody tr th {\n",
       "        vertical-align: top;\n",
       "    }\n",
       "\n",
       "    .dataframe thead th {\n",
       "        text-align: right;\n",
       "    }\n",
       "</style>\n",
       "<table border=\"1\" class=\"dataframe\">\n",
       "  <thead>\n",
       "    <tr style=\"text-align: right;\">\n",
       "      <th></th>\n",
       "      <th>0</th>\n",
       "      <th>1</th>\n",
       "      <th>2</th>\n",
       "      <th>3</th>\n",
       "      <th>4</th>\n",
       "    </tr>\n",
       "  </thead>\n",
       "  <tbody>\n",
       "    <tr>\n",
       "      <th>mean_fit_time</th>\n",
       "      <td>0.00158787</td>\n",
       "      <td>0.00228257</td>\n",
       "      <td>0.00205574</td>\n",
       "      <td>0.00188508</td>\n",
       "      <td>0.00192738</td>\n",
       "    </tr>\n",
       "    <tr>\n",
       "      <th>std_fit_time</th>\n",
       "      <td>0.00057915</td>\n",
       "      <td>0.000507351</td>\n",
       "      <td>0.000223673</td>\n",
       "      <td>0.000198442</td>\n",
       "      <td>0.000470564</td>\n",
       "    </tr>\n",
       "    <tr>\n",
       "      <th>mean_score_time</th>\n",
       "      <td>0.000712252</td>\n",
       "      <td>0.000694942</td>\n",
       "      <td>0.000629807</td>\n",
       "      <td>0.000688791</td>\n",
       "      <td>0.000637484</td>\n",
       "    </tr>\n",
       "    <tr>\n",
       "      <th>std_score_time</th>\n",
       "      <td>0.000266401</td>\n",
       "      <td>0.000242016</td>\n",
       "      <td>0.000193803</td>\n",
       "      <td>0.000382067</td>\n",
       "      <td>0.000204024</td>\n",
       "    </tr>\n",
       "    <tr>\n",
       "      <th>param_C</th>\n",
       "      <td>0.001</td>\n",
       "      <td>0.001</td>\n",
       "      <td>0.01</td>\n",
       "      <td>0.01</td>\n",
       "      <td>0.1</td>\n",
       "    </tr>\n",
       "    <tr>\n",
       "      <th>param_penalty</th>\n",
       "      <td>l1</td>\n",
       "      <td>l2</td>\n",
       "      <td>l1</td>\n",
       "      <td>l2</td>\n",
       "      <td>l1</td>\n",
       "    </tr>\n",
       "    <tr>\n",
       "      <th>params</th>\n",
       "      <td>{'C': 0.001, 'penalty': 'l1'}</td>\n",
       "      <td>{'C': 0.001, 'penalty': 'l2'}</td>\n",
       "      <td>{'C': 0.01, 'penalty': 'l1'}</td>\n",
       "      <td>{'C': 0.01, 'penalty': 'l2'}</td>\n",
       "      <td>{'C': 0.1, 'penalty': 'l1'}</td>\n",
       "    </tr>\n",
       "    <tr>\n",
       "      <th>split0_test_score</th>\n",
       "      <td>0.502488</td>\n",
       "      <td>0.930348</td>\n",
       "      <td>0.935323</td>\n",
       "      <td>0.935323</td>\n",
       "      <td>0.935323</td>\n",
       "    </tr>\n",
       "    <tr>\n",
       "      <th>split1_test_score</th>\n",
       "      <td>0.502488</td>\n",
       "      <td>0.935323</td>\n",
       "      <td>0.935323</td>\n",
       "      <td>0.935323</td>\n",
       "      <td>0.930348</td>\n",
       "    </tr>\n",
       "    <tr>\n",
       "      <th>split2_test_score</th>\n",
       "      <td>0.5</td>\n",
       "      <td>0.955</td>\n",
       "      <td>0.955</td>\n",
       "      <td>0.955</td>\n",
       "      <td>0.95</td>\n",
       "    </tr>\n",
       "    <tr>\n",
       "      <th>split3_test_score</th>\n",
       "      <td>0.502513</td>\n",
       "      <td>0.939698</td>\n",
       "      <td>0.939698</td>\n",
       "      <td>0.939698</td>\n",
       "      <td>0.954774</td>\n",
       "    </tr>\n",
       "    <tr>\n",
       "      <th>split4_test_score</th>\n",
       "      <td>0.502513</td>\n",
       "      <td>0.939698</td>\n",
       "      <td>0.939698</td>\n",
       "      <td>0.939698</td>\n",
       "      <td>0.939698</td>\n",
       "    </tr>\n",
       "    <tr>\n",
       "      <th>mean_test_score</th>\n",
       "      <td>0.502</td>\n",
       "      <td>0.94</td>\n",
       "      <td>0.941</td>\n",
       "      <td>0.941</td>\n",
       "      <td>0.942</td>\n",
       "    </tr>\n",
       "    <tr>\n",
       "      <th>std_test_score</th>\n",
       "      <td>0.00100006</td>\n",
       "      <td>0.0082557</td>\n",
       "      <td>0.0072683</td>\n",
       "      <td>0.0072683</td>\n",
       "      <td>0.00908701</td>\n",
       "    </tr>\n",
       "    <tr>\n",
       "      <th>rank_test_score</th>\n",
       "      <td>12</td>\n",
       "      <td>10</td>\n",
       "      <td>7</td>\n",
       "      <td>7</td>\n",
       "      <td>5</td>\n",
       "    </tr>\n",
       "    <tr>\n",
       "      <th>split0_train_score</th>\n",
       "      <td>0.501877</td>\n",
       "      <td>0.94368</td>\n",
       "      <td>0.942428</td>\n",
       "      <td>0.942428</td>\n",
       "      <td>0.944931</td>\n",
       "    </tr>\n",
       "    <tr>\n",
       "      <th>split1_train_score</th>\n",
       "      <td>0.501877</td>\n",
       "      <td>0.941176</td>\n",
       "      <td>0.942428</td>\n",
       "      <td>0.941176</td>\n",
       "      <td>0.946183</td>\n",
       "    </tr>\n",
       "    <tr>\n",
       "      <th>split2_train_score</th>\n",
       "      <td>0.5025</td>\n",
       "      <td>0.9375</td>\n",
       "      <td>0.9375</td>\n",
       "      <td>0.94</td>\n",
       "      <td>0.94125</td>\n",
       "    </tr>\n",
       "    <tr>\n",
       "      <th>split3_train_score</th>\n",
       "      <td>0.501873</td>\n",
       "      <td>0.938826</td>\n",
       "      <td>0.941323</td>\n",
       "      <td>0.941323</td>\n",
       "      <td>0.940075</td>\n",
       "    </tr>\n",
       "    <tr>\n",
       "      <th>split4_train_score</th>\n",
       "      <td>0.501873</td>\n",
       "      <td>0.938826</td>\n",
       "      <td>0.941323</td>\n",
       "      <td>0.941323</td>\n",
       "      <td>0.94382</td>\n",
       "    </tr>\n",
       "    <tr>\n",
       "      <th>mean_train_score</th>\n",
       "      <td>0.502</td>\n",
       "      <td>0.940002</td>\n",
       "      <td>0.941001</td>\n",
       "      <td>0.94125</td>\n",
       "      <td>0.943252</td>\n",
       "    </tr>\n",
       "    <tr>\n",
       "      <th>std_train_score</th>\n",
       "      <td>0.000250008</td>\n",
       "      <td>0.0021876</td>\n",
       "      <td>0.00181866</td>\n",
       "      <td>0.000770251</td>\n",
       "      <td>0.00227304</td>\n",
       "    </tr>\n",
       "  </tbody>\n",
       "</table>\n",
       "</div>"
      ],
      "text/plain": [
       "                                                0  \\\n",
       "mean_fit_time                          0.00158787   \n",
       "std_fit_time                           0.00057915   \n",
       "mean_score_time                       0.000712252   \n",
       "std_score_time                        0.000266401   \n",
       "param_C                                     0.001   \n",
       "param_penalty                                  l1   \n",
       "params              {'C': 0.001, 'penalty': 'l1'}   \n",
       "split0_test_score                        0.502488   \n",
       "split1_test_score                        0.502488   \n",
       "split2_test_score                             0.5   \n",
       "split3_test_score                        0.502513   \n",
       "split4_test_score                        0.502513   \n",
       "mean_test_score                             0.502   \n",
       "std_test_score                         0.00100006   \n",
       "rank_test_score                                12   \n",
       "split0_train_score                       0.501877   \n",
       "split1_train_score                       0.501877   \n",
       "split2_train_score                         0.5025   \n",
       "split3_train_score                       0.501873   \n",
       "split4_train_score                       0.501873   \n",
       "mean_train_score                            0.502   \n",
       "std_train_score                       0.000250008   \n",
       "\n",
       "                                                1  \\\n",
       "mean_fit_time                          0.00228257   \n",
       "std_fit_time                          0.000507351   \n",
       "mean_score_time                       0.000694942   \n",
       "std_score_time                        0.000242016   \n",
       "param_C                                     0.001   \n",
       "param_penalty                                  l2   \n",
       "params              {'C': 0.001, 'penalty': 'l2'}   \n",
       "split0_test_score                        0.930348   \n",
       "split1_test_score                        0.935323   \n",
       "split2_test_score                           0.955   \n",
       "split3_test_score                        0.939698   \n",
       "split4_test_score                        0.939698   \n",
       "mean_test_score                              0.94   \n",
       "std_test_score                          0.0082557   \n",
       "rank_test_score                                10   \n",
       "split0_train_score                        0.94368   \n",
       "split1_train_score                       0.941176   \n",
       "split2_train_score                         0.9375   \n",
       "split3_train_score                       0.938826   \n",
       "split4_train_score                       0.938826   \n",
       "mean_train_score                         0.940002   \n",
       "std_train_score                         0.0021876   \n",
       "\n",
       "                                               2  \\\n",
       "mean_fit_time                         0.00205574   \n",
       "std_fit_time                         0.000223673   \n",
       "mean_score_time                      0.000629807   \n",
       "std_score_time                       0.000193803   \n",
       "param_C                                     0.01   \n",
       "param_penalty                                 l1   \n",
       "params              {'C': 0.01, 'penalty': 'l1'}   \n",
       "split0_test_score                       0.935323   \n",
       "split1_test_score                       0.935323   \n",
       "split2_test_score                          0.955   \n",
       "split3_test_score                       0.939698   \n",
       "split4_test_score                       0.939698   \n",
       "mean_test_score                            0.941   \n",
       "std_test_score                         0.0072683   \n",
       "rank_test_score                                7   \n",
       "split0_train_score                      0.942428   \n",
       "split1_train_score                      0.942428   \n",
       "split2_train_score                        0.9375   \n",
       "split3_train_score                      0.941323   \n",
       "split4_train_score                      0.941323   \n",
       "mean_train_score                        0.941001   \n",
       "std_train_score                       0.00181866   \n",
       "\n",
       "                                               3                            4  \n",
       "mean_fit_time                         0.00188508                   0.00192738  \n",
       "std_fit_time                         0.000198442                  0.000470564  \n",
       "mean_score_time                      0.000688791                  0.000637484  \n",
       "std_score_time                       0.000382067                  0.000204024  \n",
       "param_C                                     0.01                          0.1  \n",
       "param_penalty                                 l2                           l1  \n",
       "params              {'C': 0.01, 'penalty': 'l2'}  {'C': 0.1, 'penalty': 'l1'}  \n",
       "split0_test_score                       0.935323                     0.935323  \n",
       "split1_test_score                       0.935323                     0.930348  \n",
       "split2_test_score                          0.955                         0.95  \n",
       "split3_test_score                       0.939698                     0.954774  \n",
       "split4_test_score                       0.939698                     0.939698  \n",
       "mean_test_score                            0.941                        0.942  \n",
       "std_test_score                         0.0072683                   0.00908701  \n",
       "rank_test_score                                7                            5  \n",
       "split0_train_score                      0.942428                     0.944931  \n",
       "split1_train_score                      0.941176                     0.946183  \n",
       "split2_train_score                          0.94                      0.94125  \n",
       "split3_train_score                      0.941323                     0.940075  \n",
       "split4_train_score                      0.941323                      0.94382  \n",
       "mean_train_score                         0.94125                     0.943252  \n",
       "std_train_score                      0.000770251                   0.00227304  "
      ]
     },
     "metadata": {},
     "output_type": "display_data"
    }
   ],
   "source": [
    "# 데이터프레임으로 교차검증 결과 확인해보자 (grid_search.cv_results_)\n",
    "pd.set_option('display.max_columns', None)\n",
    "results = pd.DataFrame(grid_search.cv_results_)\n",
    "# 처음 다섯 개 행 출력\n",
    "display(np.transpose(results.head()))"
   ]
  },
  {
   "cell_type": "markdown",
   "metadata": {},
   "source": [
    "# Quest"
   ]
  },
  {
   "cell_type": "code",
   "execution_count": 49,
   "metadata": {},
   "outputs": [],
   "source": [
    "from sklearn.datasets import load_breast_cancer\n",
    "data = load_breast_cancer()\n",
    "X = data.data\n",
    "y = data.target"
   ]
  }
 ],
 "metadata": {
  "kernelspec": {
   "display_name": "Python 3",
   "language": "python",
   "name": "python3"
  },
  "language_info": {
   "codemirror_mode": {
    "name": "ipython",
    "version": 3
   },
   "file_extension": ".py",
   "mimetype": "text/x-python",
   "name": "python",
   "nbconvert_exporter": "python",
   "pygments_lexer": "ipython3",
   "version": "3.6.5"
  }
 },
 "nbformat": 4,
 "nbformat_minor": 2
}
