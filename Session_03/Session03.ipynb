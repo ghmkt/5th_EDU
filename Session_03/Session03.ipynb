{
 "cells": [
  {
   "cell_type": "code",
   "execution_count": 7,
   "metadata": {},
   "outputs": [],
   "source": [
    "import scipy.optimize as op\n",
    "import matplotlib.pyplot as plt\n",
    "import numpy as np"
   ]
  },
  {
   "cell_type": "code",
   "execution_count": 2,
   "metadata": {},
   "outputs": [
    {
     "data": {
      "image/png": "[encoded data removed]",
      "text/plain": [
       "<Figure size 432x288 with 1 Axes>"
      ]
     },
     "metadata": {},
     "output_type": "display_data"
    }
   ],
   "source": [
    "def f1(x): # 1차원 cost function\n",
    "    return (x-2)**2+2 \n",
    "x = np.linspace(-1, 5, 100) # (-1,5)범위에서 100개의 점 찍기\n",
    "plt.plot(x, f1(x))\n",
    "plt.show() # (x-2)**2+2 식이 x=2에서 최솟값을 가짐을 알 수 있습니다"
   ]
  },
  {
   "cell_type": "code",
   "execution_count": 8,
   "metadata": {},
   "outputs": [
    {
     "data": {
      "text/plain": [
       "      fun: 2.0\n",
       " hess_inv: array([[0.5]])\n",
       "      jac: array([0.])\n",
       "  message: 'Optimization terminated successfully.'\n",
       "     nfev: 9\n",
       "      nit: 2\n",
       "     njev: 3\n",
       "   status: 0\n",
       "  success: True\n",
       "        x: array([1.99999999])"
      ]
     },
     "execution_count": 8,
     "metadata": {},
     "output_type": "execute_result"
    }
   ],
   "source": [
    "# scipy 라이브러리로 최솟값 구해보기\n",
    "initial_guess = 1 # 임의의 parameter 추정 시작값\n",
    "result = op.minimize(f1,initial_guess) # f1(1차원 cost function)을 minimize!\n",
    "result # result['x']: array([1.99999999]) -> cost function을 최소화하는 parameter값\n",
    "# scipy모듈을 통해서도 x=1.9999 즉 x=2가 함수를 minimize하는 값임을 확인할 수 있습니다"
   ]
  },
  {
   "cell_type": "code",
   "execution_count": 88,
   "metadata": {},
   "outputs": [],
   "source": [
    "# 참고: 2차원 cost function\n",
    "def f2(x): \n",
    "    return (1-x[0])**2 + 100*(x[1]-x[0]**2)**2"
   ]
  }
 ],
 "metadata": {
  "kernelspec": {
   "display_name": "Python 3",
   "language": "python",
   "name": "python3"
  },
  "language_info": {
   "codemirror_mode": {
    "name": "ipython",
    "version": 3
   },
   "file_extension": ".py",
   "mimetype": "text/x-python",
   "name": "python",
   "nbconvert_exporter": "python",
   "pygments_lexer": "ipython3",
   "version": "3.6.5"
  }
 },
 "nbformat": 4,
 "nbformat_minor": 2
}
